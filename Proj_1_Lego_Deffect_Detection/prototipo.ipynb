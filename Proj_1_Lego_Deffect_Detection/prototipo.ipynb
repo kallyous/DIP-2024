{
 "cells": [
  {
   "cell_type": "markdown",
   "id": "40d56e65-2973-4861-b6a1-f1b42b492c96",
   "metadata": {},
   "source": [
    "# Projeto de PDI 1: Lego Deffect Detection\n",
    "\n",
    "Usando somente processamento digital de imagens, detectar defeitos em peças de lego."
   ]
  },
  {
   "cell_type": "markdown",
   "id": "43cf04e2-f2dc-451a-a72d-272f08b35f64",
   "metadata": {},
   "source": [
    "**NOTAS PESSOAIS**\n",
    "\n",
    "**Kaggle:**\n",
    "\n",
    "1. Precisa aceitar a competição com a mesma conta a usar na submissão.\n",
    "2. Instalar a API do Kaggle facilita as coisas: `pip install kaggle`\n",
    "3. Colocar chave de API em '~/.kaggle/kaggle.json' para poder usar a API do Kaggle.\n",
    "4. Tem que ter entrado na competição pra poder usar a API do kaggle pra pegar as coisas.\n",
    "\n",
    "**Projeto:**\n",
    "\n",
    "* Morfologia matemática parece ser a resposta.\n"
   ]
  },
  {
   "cell_type": "code",
   "execution_count": null,
   "id": "f17f444e-379e-4694-b1ee-3411ee487e3e",
   "metadata": {},
   "outputs": [],
   "source": []
  }
 ],
 "metadata": {
  "kernelspec": {
   "display_name": "PDI_2024-10-24_01h_04m_03s",
   "language": "python",
   "name": "pdi_2024-10-24_01h_04m_03s"
  },
  "language_info": {
   "codemirror_mode": {
    "name": "ipython",
    "version": 3
   },
   "file_extension": ".py",
   "mimetype": "text/x-python",
   "name": "python",
   "nbconvert_exporter": "python",
   "pygments_lexer": "ipython3",
   "version": "3.12.6"
  }
 },
 "nbformat": 4,
 "nbformat_minor": 5
}
